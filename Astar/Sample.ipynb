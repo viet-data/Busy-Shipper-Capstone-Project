{
 "cells": [
  {
   "cell_type": "markdown",
   "id": "6fdef8eb-8eba-443b-90fc-d309d7d87e2f",
   "metadata": {},
   "source": [
    "The library data use to load all information for Astar algorithm\n",
    "\n",
    "data.get_data(get_data(filename, address, dist, graph=True)\n",
    "\n",
    "Paramerters: \n",
    "\n",
    "             filename: string\n",
    "\n",
    "             address: List,\n",
    "                 List of Latitude and Longitude \n",
    "             \n",
    "             dist: int, \n",
    "                 The radius\n",
    "             \n",
    "             graph: bool, optional\n",
    "                 If True, print the graph of map\n",
    "                 \n",
    "Returns:Graph G, start position s, maximum number of packages m, distance matrix mat_dist, list of customers stores and initial positons lst, dictionary to find index on mat_dist idx, list of customers cus, list of stores sto"
   ]
  },
  {
   "cell_type": "code",
   "execution_count": 11,
   "id": "737018ca",
   "metadata": {},
   "outputs": [
    {
     "name": "stdout",
     "output_type": "stream",
     "text": [
      "Requirement already satisfied: import_ipynb in /Users/tranxuanhuy/opt/anaconda3/lib/python3.8/site-packages (0.1.3)\n",
      "Requirement already satisfied: osmnx in /Users/tranxuanhuy/opt/anaconda3/lib/python3.8/site-packages (1.1.1)\n",
      "Requirement already satisfied: geopandas>=0.9 in /Users/tranxuanhuy/opt/anaconda3/lib/python3.8/site-packages (from osmnx) (0.10.2)\n",
      "Requirement already satisfied: Shapely>=1.7 in /Users/tranxuanhuy/opt/anaconda3/lib/python3.8/site-packages (from osmnx) (1.8.0)\n",
      "Requirement already satisfied: matplotlib>=3.3 in /Users/tranxuanhuy/opt/anaconda3/lib/python3.8/site-packages (from osmnx) (3.5.1)\n",
      "Requirement already satisfied: Rtree>=0.9 in /Users/tranxuanhuy/opt/anaconda3/lib/python3.8/site-packages (from osmnx) (0.9.7)\n",
      "Requirement already satisfied: numpy>=1.19 in /Users/tranxuanhuy/opt/anaconda3/lib/python3.8/site-packages (from osmnx) (1.20.1)\n",
      "Requirement already satisfied: pyproj>=2.6 in /Users/tranxuanhuy/opt/anaconda3/lib/python3.8/site-packages (from osmnx) (3.2.1)\n",
      "Requirement already satisfied: requests>=2.25 in /Users/tranxuanhuy/opt/anaconda3/lib/python3.8/site-packages (from osmnx) (2.25.1)\n",
      "Requirement already satisfied: networkx>=2.5 in /Users/tranxuanhuy/opt/anaconda3/lib/python3.8/site-packages (from osmnx) (2.5)\n",
      "Requirement already satisfied: pandas>=1.1 in /Users/tranxuanhuy/opt/anaconda3/lib/python3.8/site-packages (from osmnx) (1.2.4)\n",
      "Requirement already satisfied: fiona>=1.8 in /Users/tranxuanhuy/opt/anaconda3/lib/python3.8/site-packages (from geopandas>=0.9->osmnx) (1.8.20)\n",
      "Requirement already satisfied: click-plugins>=1.0 in /Users/tranxuanhuy/opt/anaconda3/lib/python3.8/site-packages (from fiona>=1.8->geopandas>=0.9->osmnx) (1.1.1)\n",
      "Requirement already satisfied: click>=4.0 in /Users/tranxuanhuy/opt/anaconda3/lib/python3.8/site-packages (from fiona>=1.8->geopandas>=0.9->osmnx) (7.1.2)\n",
      "Requirement already satisfied: setuptools in /Users/tranxuanhuy/opt/anaconda3/lib/python3.8/site-packages (from fiona>=1.8->geopandas>=0.9->osmnx) (52.0.0.post20210125)\n",
      "Requirement already satisfied: munch in /Users/tranxuanhuy/opt/anaconda3/lib/python3.8/site-packages (from fiona>=1.8->geopandas>=0.9->osmnx) (2.5.0)\n",
      "Requirement already satisfied: certifi in /Users/tranxuanhuy/opt/anaconda3/lib/python3.8/site-packages (from fiona>=1.8->geopandas>=0.9->osmnx) (2020.12.5)\n",
      "Requirement already satisfied: six>=1.7 in /Users/tranxuanhuy/opt/anaconda3/lib/python3.8/site-packages (from fiona>=1.8->geopandas>=0.9->osmnx) (1.15.0)\n",
      "Requirement already satisfied: attrs>=17 in /Users/tranxuanhuy/opt/anaconda3/lib/python3.8/site-packages (from fiona>=1.8->geopandas>=0.9->osmnx) (20.3.0)\n",
      "Requirement already satisfied: cligj>=0.5 in /Users/tranxuanhuy/opt/anaconda3/lib/python3.8/site-packages (from fiona>=1.8->geopandas>=0.9->osmnx) (0.7.2)\n",
      "Requirement already satisfied: cycler>=0.10 in /Users/tranxuanhuy/opt/anaconda3/lib/python3.8/site-packages (from matplotlib>=3.3->osmnx) (0.10.0)\n",
      "Requirement already satisfied: kiwisolver>=1.0.1 in /Users/tranxuanhuy/opt/anaconda3/lib/python3.8/site-packages (from matplotlib>=3.3->osmnx) (1.3.1)\n",
      "Requirement already satisfied: pyparsing>=2.2.1 in /Users/tranxuanhuy/opt/anaconda3/lib/python3.8/site-packages (from matplotlib>=3.3->osmnx) (2.4.7)\n",
      "Requirement already satisfied: python-dateutil>=2.7 in /Users/tranxuanhuy/opt/anaconda3/lib/python3.8/site-packages (from matplotlib>=3.3->osmnx) (2.8.1)\n",
      "Requirement already satisfied: packaging>=20.0 in /Users/tranxuanhuy/opt/anaconda3/lib/python3.8/site-packages (from matplotlib>=3.3->osmnx) (20.9)\n",
      "Requirement already satisfied: fonttools>=4.22.0 in /Users/tranxuanhuy/opt/anaconda3/lib/python3.8/site-packages (from matplotlib>=3.3->osmnx) (4.28.2)\n",
      "Requirement already satisfied: pillow>=6.2.0 in /Users/tranxuanhuy/opt/anaconda3/lib/python3.8/site-packages (from matplotlib>=3.3->osmnx) (8.2.0)\n",
      "Requirement already satisfied: decorator>=4.3.0 in /Users/tranxuanhuy/opt/anaconda3/lib/python3.8/site-packages (from networkx>=2.5->osmnx) (5.0.6)\n",
      "Requirement already satisfied: pytz>=2017.3 in /Users/tranxuanhuy/opt/anaconda3/lib/python3.8/site-packages (from pandas>=1.1->osmnx) (2021.1)\n",
      "Requirement already satisfied: urllib3<1.27,>=1.21.1 in /Users/tranxuanhuy/opt/anaconda3/lib/python3.8/site-packages (from requests>=2.25->osmnx) (1.26.4)\n",
      "Requirement already satisfied: chardet<5,>=3.0.2 in /Users/tranxuanhuy/opt/anaconda3/lib/python3.8/site-packages (from requests>=2.25->osmnx) (4.0.0)\n",
      "Requirement already satisfied: idna<3,>=2.5 in /Users/tranxuanhuy/opt/anaconda3/lib/python3.8/site-packages (from requests>=2.25->osmnx) (2.10)\n"
     ]
    }
   ],
   "source": [
    "!pip install import_ipynb\n",
    "!pip install osmnx"
   ]
  },
  {
   "cell_type": "code",
   "execution_count": 12,
   "id": "1d76319b-db06-4712-9f90-25d50f70a9f4",
   "metadata": {},
   "outputs": [
    {
     "name": "stdout",
     "output_type": "stream",
     "text": [
      "The autoreload extension is already loaded. To reload it, use:\n",
      "  %reload_ext autoreload\n"
     ]
    },
    {
     "ename": "FileNotFoundError",
     "evalue": "[Errno 2] No such file or directory: 'AMS.pickle'",
     "output_type": "error",
     "traceback": [
      "\u001b[0;31m---------------------------------------------------------------------------\u001b[0m",
      "\u001b[0;31mFileNotFoundError\u001b[0m                         Traceback (most recent call last)",
      "\u001b[0;32m<ipython-input-12-dbe5e93badf0>\u001b[0m in \u001b[0;36m<module>\u001b[0;34m\u001b[0m\n\u001b[1;32m      6\u001b[0m \u001b[0;32mimport\u001b[0m \u001b[0mpickle\u001b[0m\u001b[0;34m\u001b[0m\u001b[0;34m\u001b[0m\u001b[0m\n\u001b[1;32m      7\u001b[0m \u001b[0;34m\u001b[0m\u001b[0m\n\u001b[0;32m----> 8\u001b[0;31m \u001b[0;32mwith\u001b[0m \u001b[0mopen\u001b[0m\u001b[0;34m(\u001b[0m\u001b[0;34m'AMS.pickle'\u001b[0m\u001b[0;34m,\u001b[0m \u001b[0;34m'rb'\u001b[0m\u001b[0;34m)\u001b[0m \u001b[0;32mas\u001b[0m \u001b[0mf\u001b[0m\u001b[0;34m:\u001b[0m\u001b[0;34m\u001b[0m\u001b[0;34m\u001b[0m\u001b[0m\n\u001b[0m\u001b[1;32m      9\u001b[0m     \u001b[0mG\u001b[0m \u001b[0;34m=\u001b[0m \u001b[0mpickle\u001b[0m\u001b[0;34m.\u001b[0m\u001b[0mload\u001b[0m\u001b[0;34m(\u001b[0m\u001b[0mf\u001b[0m\u001b[0;34m)\u001b[0m\u001b[0;34m\u001b[0m\u001b[0;34m\u001b[0m\u001b[0m\n\u001b[1;32m     10\u001b[0m \u001b[0;34m\u001b[0m\u001b[0m\n",
      "\u001b[0;31mFileNotFoundError\u001b[0m: [Errno 2] No such file or directory: 'AMS.pickle'"
     ]
    }
   ],
   "source": [
    "%load_ext autoreload\n",
    "%autoreload 2\n",
    "import import_ipynb\n",
    "import data\n",
    "import Astar\n",
    "import pickle\n",
    "\n",
    "with open('AMS.pickle', 'rb') as f:\n",
    "    G = pickle.load(f)\n",
    "    \n",
    "filename = 'AMS_12_10.txt'\n",
    "s, m, mat_dist, lst, idx, orders, cus, sto = data.get_data(filename, G)"
   ]
  },
  {
   "cell_type": "markdown",
   "id": "eeb36930-e7b8-4217-8692-2597c13a3c2e",
   "metadata": {},
   "source": [
    "The function Astar.Astar is called to solver the problem.\n",
    "\n",
    "Parameters:\n",
    "\n",
    "            G, Graph\n",
    "            initial, int\n",
    "            sto, list\n",
    "            cus, list\n",
    "            mat_dist, array\n",
    "            idx, set\n",
    "            max_package, int\n",
    "           \n",
    "Returns:\n",
    "    \n",
    "        cost: Minimum cost\n",
    "        path: A path that have minimum cost\n",
    "            "
   ]
  },
  {
   "cell_type": "code",
   "execution_count": null,
   "id": "41e9ee8c-f679-46a2-89cd-d4180d5bbd59",
   "metadata": {},
   "outputs": [],
   "source": [
    "path, cost = Astar.Astar(G, s, sto, cus, mat_dist, idx, m)"
   ]
  },
  {
   "cell_type": "code",
   "execution_count": null,
   "id": "abeb2f4a",
   "metadata": {},
   "outputs": [],
   "source": [
    "cost"
   ]
  },
  {
   "cell_type": "code",
   "execution_count": null,
   "id": "d88fdd38",
   "metadata": {},
   "outputs": [],
   "source": [
    "address = [52.36622884605627, 4.86856649238004]\n",
    "Astar.folium_route(G, path, address, 15, cus, sto)"
   ]
  }
 ],
 "metadata": {
  "kernelspec": {
   "display_name": "Python 3",
   "language": "python",
   "name": "python3"
  },
  "language_info": {
   "codemirror_mode": {
    "name": "ipython",
    "version": 3
   },
   "file_extension": ".py",
   "mimetype": "text/x-python",
   "name": "python",
   "nbconvert_exporter": "python",
   "pygments_lexer": "ipython3",
   "version": "3.8.8"
  }
 },
 "nbformat": 4,
 "nbformat_minor": 5
}
